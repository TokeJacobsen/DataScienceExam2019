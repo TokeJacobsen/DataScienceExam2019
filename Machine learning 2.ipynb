{
 "cells": [
  {
   "cell_type": "code",
   "execution_count": 1,
   "metadata": {},
   "outputs": [],
   "source": [
    "import pandas as pd\n",
    "import matplotlib.pyplot as plt\n",
    "import numpy as np"
   ]
  },
  {
   "cell_type": "code",
   "execution_count": 2,
   "metadata": {},
   "outputs": [],
   "source": [
    "from datetime import datetime\n",
    "def countDays(row):\n",
    "    date_format = \"%Y-%m-%d\"\n",
    "    a = datetime.strptime(row[\"launched\"][:10], date_format)\n",
    "    b = datetime.strptime(row[\"deadline\"], date_format)\n",
    "    delta = b - a\n",
    "    return delta.days\n",
    "    "
   ]
  },
  {
   "cell_type": "code",
   "execution_count": 3,
   "metadata": {},
   "outputs": [],
   "source": [
    "from sklearn import preprocessing\n",
    "def convertStringsToInt():\n",
    "    for column in X_set.columns:\n",
    "        if X_set[column].dtype == type(object):\n",
    "            le = preprocessing.LabelEncoder()\n",
    "            X_set[column] = le.fit_transform(X_set[column])"
   ]
  },
  {
   "cell_type": "code",
   "execution_count": 52,
   "metadata": {},
   "outputs": [
    {
     "name": "stderr",
     "output_type": "stream",
     "text": [
      "c:\\users\\den udvalgte\\appdata\\local\\programs\\python\\python37\\lib\\site-packages\\ipykernel_launcher.py:6: SettingWithCopyWarning: \n",
      "A value is trying to be set on a copy of a slice from a DataFrame.\n",
      "Try using .loc[row_indexer,col_indexer] = value instead\n",
      "\n",
      "See the caveats in the documentation: http://pandas.pydata.org/pandas-docs/stable/indexing.html#indexing-view-versus-copy\n",
      "  \n"
     ]
    }
   ],
   "source": [
    "#Read data\n",
    "df = pd.read_csv('ks-projects-201801.csv')\n",
    "#Filter data in successful and failed only\n",
    "data2 = df[(df.state == 'successful') | (df.state == 'failed') ]\n",
    "#add days column\n",
    "data2[\"days\"] = data.apply(countDays, axis=1)"
   ]
  },
  {
   "cell_type": "code",
   "execution_count": 53,
   "metadata": {},
   "outputs": [],
   "source": [
    "cleanData = data2.drop(['ID', 'name','category','deadline','launched','pledged','usd pledged','goal'], 1)"
   ]
  },
  {
   "cell_type": "code",
   "execution_count": 54,
   "metadata": {},
   "outputs": [],
   "source": [
    "dataBinary = cleanData.copy()\n",
    "dataBinary['state'] = np.where(dataBinary.state=='successful', 1, 0)"
   ]
  },
  {
   "cell_type": "code",
   "execution_count": 49,
   "metadata": {},
   "outputs": [
    {
     "ename": "KeyError",
     "evalue": "'launched'",
     "output_type": "error",
     "traceback": [
      "\u001b[1;31m---------------------------------------------------------------------------\u001b[0m",
      "\u001b[1;31mKeyError\u001b[0m                                  Traceback (most recent call last)",
      "\u001b[1;32mc:\\users\\den udvalgte\\appdata\\local\\programs\\python\\python37\\lib\\site-packages\\pandas\\core\\indexes\\base.py\u001b[0m in \u001b[0;36mget_loc\u001b[1;34m(self, key, method, tolerance)\u001b[0m\n\u001b[0;32m   3077\u001b[0m             \u001b[1;32mtry\u001b[0m\u001b[1;33m:\u001b[0m\u001b[1;33m\u001b[0m\u001b[0m\n\u001b[1;32m-> 3078\u001b[1;33m                 \u001b[1;32mreturn\u001b[0m \u001b[0mself\u001b[0m\u001b[1;33m.\u001b[0m\u001b[0m_engine\u001b[0m\u001b[1;33m.\u001b[0m\u001b[0mget_loc\u001b[0m\u001b[1;33m(\u001b[0m\u001b[0mkey\u001b[0m\u001b[1;33m)\u001b[0m\u001b[1;33m\u001b[0m\u001b[0m\n\u001b[0m\u001b[0;32m   3079\u001b[0m             \u001b[1;32mexcept\u001b[0m \u001b[0mKeyError\u001b[0m\u001b[1;33m:\u001b[0m\u001b[1;33m\u001b[0m\u001b[0m\n",
      "\u001b[1;32mpandas\\_libs\\index.pyx\u001b[0m in \u001b[0;36mpandas._libs.index.IndexEngine.get_loc\u001b[1;34m()\u001b[0m\n",
      "\u001b[1;32mpandas\\_libs\\index.pyx\u001b[0m in \u001b[0;36mpandas._libs.index.IndexEngine.get_loc\u001b[1;34m()\u001b[0m\n",
      "\u001b[1;32mpandas\\_libs\\hashtable_class_helper.pxi\u001b[0m in \u001b[0;36mpandas._libs.hashtable.PyObjectHashTable.get_item\u001b[1;34m()\u001b[0m\n",
      "\u001b[1;32mpandas\\_libs\\hashtable_class_helper.pxi\u001b[0m in \u001b[0;36mpandas._libs.hashtable.PyObjectHashTable.get_item\u001b[1;34m()\u001b[0m\n",
      "\u001b[1;31mKeyError\u001b[0m: 'launched'",
      "\nDuring handling of the above exception, another exception occurred:\n",
      "\u001b[1;31mKeyError\u001b[0m                                  Traceback (most recent call last)",
      "\u001b[1;32m<ipython-input-49-370192e5f6a0>\u001b[0m in \u001b[0;36m<module>\u001b[1;34m()\u001b[0m\n\u001b[1;32m----> 1\u001b[1;33m \u001b[0mdataBinary\u001b[0m\u001b[1;33m[\u001b[0m\u001b[1;34m'launch_month'\u001b[0m\u001b[1;33m]\u001b[0m \u001b[1;33m=\u001b[0m \u001b[0mpd\u001b[0m\u001b[1;33m.\u001b[0m\u001b[0mDatetimeIndex\u001b[0m\u001b[1;33m(\u001b[0m\u001b[0mdataBinary\u001b[0m\u001b[1;33m[\u001b[0m\u001b[1;34m'launched'\u001b[0m\u001b[1;33m]\u001b[0m\u001b[1;33m)\u001b[0m\u001b[1;33m.\u001b[0m\u001b[0mmonth\u001b[0m \u001b[1;31m#1 = January\u001b[0m\u001b[1;33m\u001b[0m\u001b[0m\n\u001b[0m\u001b[0;32m      2\u001b[0m \u001b[0mdataBinary\u001b[0m\u001b[1;33m[\u001b[0m\u001b[1;34m'launch_day'\u001b[0m\u001b[1;33m]\u001b[0m \u001b[1;33m=\u001b[0m \u001b[0mpd\u001b[0m\u001b[1;33m.\u001b[0m\u001b[0mDatetimeIndex\u001b[0m\u001b[1;33m(\u001b[0m\u001b[0mdataBinary\u001b[0m\u001b[1;33m[\u001b[0m\u001b[1;34m'launched'\u001b[0m\u001b[1;33m]\u001b[0m\u001b[1;33m)\u001b[0m\u001b[1;33m.\u001b[0m\u001b[0mweekday\u001b[0m \u001b[1;31m#0 = monday\u001b[0m\u001b[1;33m\u001b[0m\u001b[0m\n\u001b[0;32m      3\u001b[0m \u001b[0mdataBinary\u001b[0m\u001b[1;33m[\u001b[0m\u001b[1;34m'weekday'\u001b[0m\u001b[1;33m]\u001b[0m \u001b[1;33m=\u001b[0m \u001b[0mpd\u001b[0m\u001b[1;33m.\u001b[0m\u001b[0mDatetimeIndex\u001b[0m\u001b[1;33m(\u001b[0m\u001b[0mdataBinary\u001b[0m\u001b[1;33m[\u001b[0m\u001b[1;34m'launched'\u001b[0m\u001b[1;33m]\u001b[0m\u001b[1;33m)\u001b[0m\u001b[1;33m.\u001b[0m\u001b[0mday_name\u001b[0m\u001b[1;33m(\u001b[0m\u001b[1;33m)\u001b[0m\u001b[1;33m\u001b[0m\u001b[0m\n",
      "\u001b[1;32mc:\\users\\den udvalgte\\appdata\\local\\programs\\python\\python37\\lib\\site-packages\\pandas\\core\\frame.py\u001b[0m in \u001b[0;36m__getitem__\u001b[1;34m(self, key)\u001b[0m\n\u001b[0;32m   2686\u001b[0m             \u001b[1;32mreturn\u001b[0m \u001b[0mself\u001b[0m\u001b[1;33m.\u001b[0m\u001b[0m_getitem_multilevel\u001b[0m\u001b[1;33m(\u001b[0m\u001b[0mkey\u001b[0m\u001b[1;33m)\u001b[0m\u001b[1;33m\u001b[0m\u001b[0m\n\u001b[0;32m   2687\u001b[0m         \u001b[1;32melse\u001b[0m\u001b[1;33m:\u001b[0m\u001b[1;33m\u001b[0m\u001b[0m\n\u001b[1;32m-> 2688\u001b[1;33m             \u001b[1;32mreturn\u001b[0m \u001b[0mself\u001b[0m\u001b[1;33m.\u001b[0m\u001b[0m_getitem_column\u001b[0m\u001b[1;33m(\u001b[0m\u001b[0mkey\u001b[0m\u001b[1;33m)\u001b[0m\u001b[1;33m\u001b[0m\u001b[0m\n\u001b[0m\u001b[0;32m   2689\u001b[0m \u001b[1;33m\u001b[0m\u001b[0m\n\u001b[0;32m   2690\u001b[0m     \u001b[1;32mdef\u001b[0m \u001b[0m_getitem_column\u001b[0m\u001b[1;33m(\u001b[0m\u001b[0mself\u001b[0m\u001b[1;33m,\u001b[0m \u001b[0mkey\u001b[0m\u001b[1;33m)\u001b[0m\u001b[1;33m:\u001b[0m\u001b[1;33m\u001b[0m\u001b[0m\n",
      "\u001b[1;32mc:\\users\\den udvalgte\\appdata\\local\\programs\\python\\python37\\lib\\site-packages\\pandas\\core\\frame.py\u001b[0m in \u001b[0;36m_getitem_column\u001b[1;34m(self, key)\u001b[0m\n\u001b[0;32m   2693\u001b[0m         \u001b[1;31m# get column\u001b[0m\u001b[1;33m\u001b[0m\u001b[1;33m\u001b[0m\u001b[0m\n\u001b[0;32m   2694\u001b[0m         \u001b[1;32mif\u001b[0m \u001b[0mself\u001b[0m\u001b[1;33m.\u001b[0m\u001b[0mcolumns\u001b[0m\u001b[1;33m.\u001b[0m\u001b[0mis_unique\u001b[0m\u001b[1;33m:\u001b[0m\u001b[1;33m\u001b[0m\u001b[0m\n\u001b[1;32m-> 2695\u001b[1;33m             \u001b[1;32mreturn\u001b[0m \u001b[0mself\u001b[0m\u001b[1;33m.\u001b[0m\u001b[0m_get_item_cache\u001b[0m\u001b[1;33m(\u001b[0m\u001b[0mkey\u001b[0m\u001b[1;33m)\u001b[0m\u001b[1;33m\u001b[0m\u001b[0m\n\u001b[0m\u001b[0;32m   2696\u001b[0m \u001b[1;33m\u001b[0m\u001b[0m\n\u001b[0;32m   2697\u001b[0m         \u001b[1;31m# duplicate columns & possible reduce dimensionality\u001b[0m\u001b[1;33m\u001b[0m\u001b[1;33m\u001b[0m\u001b[0m\n",
      "\u001b[1;32mc:\\users\\den udvalgte\\appdata\\local\\programs\\python\\python37\\lib\\site-packages\\pandas\\core\\generic.py\u001b[0m in \u001b[0;36m_get_item_cache\u001b[1;34m(self, item)\u001b[0m\n\u001b[0;32m   2487\u001b[0m         \u001b[0mres\u001b[0m \u001b[1;33m=\u001b[0m \u001b[0mcache\u001b[0m\u001b[1;33m.\u001b[0m\u001b[0mget\u001b[0m\u001b[1;33m(\u001b[0m\u001b[0mitem\u001b[0m\u001b[1;33m)\u001b[0m\u001b[1;33m\u001b[0m\u001b[0m\n\u001b[0;32m   2488\u001b[0m         \u001b[1;32mif\u001b[0m \u001b[0mres\u001b[0m \u001b[1;32mis\u001b[0m \u001b[1;32mNone\u001b[0m\u001b[1;33m:\u001b[0m\u001b[1;33m\u001b[0m\u001b[0m\n\u001b[1;32m-> 2489\u001b[1;33m             \u001b[0mvalues\u001b[0m \u001b[1;33m=\u001b[0m \u001b[0mself\u001b[0m\u001b[1;33m.\u001b[0m\u001b[0m_data\u001b[0m\u001b[1;33m.\u001b[0m\u001b[0mget\u001b[0m\u001b[1;33m(\u001b[0m\u001b[0mitem\u001b[0m\u001b[1;33m)\u001b[0m\u001b[1;33m\u001b[0m\u001b[0m\n\u001b[0m\u001b[0;32m   2490\u001b[0m             \u001b[0mres\u001b[0m \u001b[1;33m=\u001b[0m \u001b[0mself\u001b[0m\u001b[1;33m.\u001b[0m\u001b[0m_box_item_values\u001b[0m\u001b[1;33m(\u001b[0m\u001b[0mitem\u001b[0m\u001b[1;33m,\u001b[0m \u001b[0mvalues\u001b[0m\u001b[1;33m)\u001b[0m\u001b[1;33m\u001b[0m\u001b[0m\n\u001b[0;32m   2491\u001b[0m             \u001b[0mcache\u001b[0m\u001b[1;33m[\u001b[0m\u001b[0mitem\u001b[0m\u001b[1;33m]\u001b[0m \u001b[1;33m=\u001b[0m \u001b[0mres\u001b[0m\u001b[1;33m\u001b[0m\u001b[0m\n",
      "\u001b[1;32mc:\\users\\den udvalgte\\appdata\\local\\programs\\python\\python37\\lib\\site-packages\\pandas\\core\\internals.py\u001b[0m in \u001b[0;36mget\u001b[1;34m(self, item, fastpath)\u001b[0m\n\u001b[0;32m   4113\u001b[0m \u001b[1;33m\u001b[0m\u001b[0m\n\u001b[0;32m   4114\u001b[0m             \u001b[1;32mif\u001b[0m \u001b[1;32mnot\u001b[0m \u001b[0misna\u001b[0m\u001b[1;33m(\u001b[0m\u001b[0mitem\u001b[0m\u001b[1;33m)\u001b[0m\u001b[1;33m:\u001b[0m\u001b[1;33m\u001b[0m\u001b[0m\n\u001b[1;32m-> 4115\u001b[1;33m                 \u001b[0mloc\u001b[0m \u001b[1;33m=\u001b[0m \u001b[0mself\u001b[0m\u001b[1;33m.\u001b[0m\u001b[0mitems\u001b[0m\u001b[1;33m.\u001b[0m\u001b[0mget_loc\u001b[0m\u001b[1;33m(\u001b[0m\u001b[0mitem\u001b[0m\u001b[1;33m)\u001b[0m\u001b[1;33m\u001b[0m\u001b[0m\n\u001b[0m\u001b[0;32m   4116\u001b[0m             \u001b[1;32melse\u001b[0m\u001b[1;33m:\u001b[0m\u001b[1;33m\u001b[0m\u001b[0m\n\u001b[0;32m   4117\u001b[0m                 \u001b[0mindexer\u001b[0m \u001b[1;33m=\u001b[0m \u001b[0mnp\u001b[0m\u001b[1;33m.\u001b[0m\u001b[0marange\u001b[0m\u001b[1;33m(\u001b[0m\u001b[0mlen\u001b[0m\u001b[1;33m(\u001b[0m\u001b[0mself\u001b[0m\u001b[1;33m.\u001b[0m\u001b[0mitems\u001b[0m\u001b[1;33m)\u001b[0m\u001b[1;33m)\u001b[0m\u001b[1;33m[\u001b[0m\u001b[0misna\u001b[0m\u001b[1;33m(\u001b[0m\u001b[0mself\u001b[0m\u001b[1;33m.\u001b[0m\u001b[0mitems\u001b[0m\u001b[1;33m)\u001b[0m\u001b[1;33m]\u001b[0m\u001b[1;33m\u001b[0m\u001b[0m\n",
      "\u001b[1;32mc:\\users\\den udvalgte\\appdata\\local\\programs\\python\\python37\\lib\\site-packages\\pandas\\core\\indexes\\base.py\u001b[0m in \u001b[0;36mget_loc\u001b[1;34m(self, key, method, tolerance)\u001b[0m\n\u001b[0;32m   3078\u001b[0m                 \u001b[1;32mreturn\u001b[0m \u001b[0mself\u001b[0m\u001b[1;33m.\u001b[0m\u001b[0m_engine\u001b[0m\u001b[1;33m.\u001b[0m\u001b[0mget_loc\u001b[0m\u001b[1;33m(\u001b[0m\u001b[0mkey\u001b[0m\u001b[1;33m)\u001b[0m\u001b[1;33m\u001b[0m\u001b[0m\n\u001b[0;32m   3079\u001b[0m             \u001b[1;32mexcept\u001b[0m \u001b[0mKeyError\u001b[0m\u001b[1;33m:\u001b[0m\u001b[1;33m\u001b[0m\u001b[0m\n\u001b[1;32m-> 3080\u001b[1;33m                 \u001b[1;32mreturn\u001b[0m \u001b[0mself\u001b[0m\u001b[1;33m.\u001b[0m\u001b[0m_engine\u001b[0m\u001b[1;33m.\u001b[0m\u001b[0mget_loc\u001b[0m\u001b[1;33m(\u001b[0m\u001b[0mself\u001b[0m\u001b[1;33m.\u001b[0m\u001b[0m_maybe_cast_indexer\u001b[0m\u001b[1;33m(\u001b[0m\u001b[0mkey\u001b[0m\u001b[1;33m)\u001b[0m\u001b[1;33m)\u001b[0m\u001b[1;33m\u001b[0m\u001b[0m\n\u001b[0m\u001b[0;32m   3081\u001b[0m \u001b[1;33m\u001b[0m\u001b[0m\n\u001b[0;32m   3082\u001b[0m         \u001b[0mindexer\u001b[0m \u001b[1;33m=\u001b[0m \u001b[0mself\u001b[0m\u001b[1;33m.\u001b[0m\u001b[0mget_indexer\u001b[0m\u001b[1;33m(\u001b[0m\u001b[1;33m[\u001b[0m\u001b[0mkey\u001b[0m\u001b[1;33m]\u001b[0m\u001b[1;33m,\u001b[0m \u001b[0mmethod\u001b[0m\u001b[1;33m=\u001b[0m\u001b[0mmethod\u001b[0m\u001b[1;33m,\u001b[0m \u001b[0mtolerance\u001b[0m\u001b[1;33m=\u001b[0m\u001b[0mtolerance\u001b[0m\u001b[1;33m)\u001b[0m\u001b[1;33m\u001b[0m\u001b[0m\n",
      "\u001b[1;32mpandas\\_libs\\index.pyx\u001b[0m in \u001b[0;36mpandas._libs.index.IndexEngine.get_loc\u001b[1;34m()\u001b[0m\n",
      "\u001b[1;32mpandas\\_libs\\index.pyx\u001b[0m in \u001b[0;36mpandas._libs.index.IndexEngine.get_loc\u001b[1;34m()\u001b[0m\n",
      "\u001b[1;32mpandas\\_libs\\hashtable_class_helper.pxi\u001b[0m in \u001b[0;36mpandas._libs.hashtable.PyObjectHashTable.get_item\u001b[1;34m()\u001b[0m\n",
      "\u001b[1;32mpandas\\_libs\\hashtable_class_helper.pxi\u001b[0m in \u001b[0;36mpandas._libs.hashtable.PyObjectHashTable.get_item\u001b[1;34m()\u001b[0m\n",
      "\u001b[1;31mKeyError\u001b[0m: 'launched'"
     ]
    }
   ],
   "source": [
    "dataBinary['launch_month'] = pd.DatetimeIndex(dataBinary['launched']).month #1 = January\n",
    "dataBinary['launch_day'] = pd.DatetimeIndex(dataBinary['launched']).weekday #0 = monday\n",
    "dataBinary['weekday'] = pd.DatetimeIndex(dataBinary['launched']).day_name()"
   ]
  },
  {
   "cell_type": "code",
   "execution_count": 55,
   "metadata": {},
   "outputs": [],
   "source": [
    "one_hot = pd.get_dummies(dataBinary['main_category'])\n",
    "dataBinary = dataBinary.join(one_hot)\n",
    "\n",
    "one_hot = pd.get_dummies(dataBinary['currency'])\n",
    "dataBinary = dataBinary.join(one_hot)\n",
    "\n",
    "one_hot = pd.get_dummies(dataBinary['country'])\n",
    "dataBinary = dataBinary.join(one_hot)\n",
    "\n",
    "#one_hot = pd.get_dummies(dataBinary['weekday'])\n",
    "#dataBinary = dataBinary.join(one_hot)"
   ]
  },
  {
   "cell_type": "code",
   "execution_count": 57,
   "metadata": {},
   "outputs": [],
   "source": [
    "#cleanDataBinary = dataBinary.drop(['main_category', 'currency','country','launched', 'weekday'], 1)\n",
    "cleanDataBinary = dataBinary.drop(['main_category', 'currency','country'], 1)"
   ]
  },
  {
   "cell_type": "code",
   "execution_count": 58,
   "metadata": {},
   "outputs": [],
   "source": [
    "OneHotData = cleanDataBinary.copy()\n",
    "X_set = OneHotData.drop(['state'], 1)\n",
    "y_set = OneHotData['state']"
   ]
  },
  {
   "cell_type": "code",
   "execution_count": 59,
   "metadata": {},
   "outputs": [],
   "source": [
    "from sklearn.model_selection import train_test_split\n",
    "X_train, X_test, y_train, y_test = train_test_split(X_set, y_set, test_size=0.2, random_state=1)\n",
    "X_train, X_val, y_train, y_val = train_test_split(X_train, y_train, test_size=0.5, random_state=1)"
   ]
  },
  {
   "cell_type": "code",
   "execution_count": null,
   "metadata": {},
   "outputs": [],
   "source": [
    "from sklearn.linear_model import LogisticRegression\n",
    "LogisticRegression = LogisticRegression()"
   ]
  },
  {
   "cell_type": "code",
   "execution_count": null,
   "metadata": {},
   "outputs": [],
   "source": [
    "LogisticRegression.fit(X_train, y_train)"
   ]
  },
  {
   "cell_type": "code",
   "execution_count": null,
   "metadata": {},
   "outputs": [],
   "source": [
    "score = LogisticRegression.score(X_val, y_val)\n",
    "print(score)"
   ]
  },
  {
   "cell_type": "code",
   "execution_count": null,
   "metadata": {},
   "outputs": [],
   "source": [
    "from sklearn.neighbors import KNeighborsClassifier\n",
    "KNeighborsClassifier = KNeighborsClassifier()\n",
    "KNeighborsClassifier.fit(X_train, y_train)"
   ]
  },
  {
   "cell_type": "code",
   "execution_count": null,
   "metadata": {},
   "outputs": [],
   "source": [
    "score = KNeighborsClassifier.score(X_val, y_val)\n",
    "print(score)"
   ]
  },
  {
   "cell_type": "code",
   "execution_count": null,
   "metadata": {},
   "outputs": [],
   "source": []
  },
  {
   "cell_type": "code",
   "execution_count": null,
   "metadata": {},
   "outputs": [],
   "source": []
  },
  {
   "cell_type": "code",
   "execution_count": null,
   "metadata": {},
   "outputs": [],
   "source": []
  },
  {
   "cell_type": "code",
   "execution_count": null,
   "metadata": {},
   "outputs": [],
   "source": []
  },
  {
   "cell_type": "code",
   "execution_count": null,
   "metadata": {},
   "outputs": [],
   "source": []
  },
  {
   "cell_type": "code",
   "execution_count": null,
   "metadata": {},
   "outputs": [],
   "source": [
    "from sklearn.metrics import accuracy_score, confusion_matrix\n",
    "from sklearn.ensemble import RandomForestClassifier\n",
    "from sklearn import svm, tree\n",
    "from sklearn.naive_bayes import GaussianNB\n",
    "from sklearn.neural_network import MLPClassifier\n",
    "\n",
    "import xgboost\n",
    "classifiers = []"
   ]
  },
  {
   "cell_type": "code",
   "execution_count": null,
   "metadata": {},
   "outputs": [],
   "source": [
    "for clf in classifiers:\n",
    "    clf.fit(X_train, y_train)\n",
    "    y_pred= clf.predict(X_val)\n",
    "    acc = accuracy_score(y_val, y_pred)\n",
    "    print(\"Accuracy of %s is %s\"%(clf, acc))\n",
    "    cm = confusion_matrix(y_val, y_pred)\n",
    "    print(\"Confusion Matrix of %s is %s\"%(clf, cm))"
   ]
  },
  {
   "cell_type": "code",
   "execution_count": null,
   "metadata": {},
   "outputs": [],
   "source": [
    "from sklearn.model_selection import GridSearchCV\n",
    "parameters = {'solver': ['lbfgs'], 'max_iter': [1000,1100,1200,1300,1400,1500,1600,1700,1800,1900,2000 ], 'alpha': 10.0 ** -np.arange(1, 10), 'hidden_layer_sizes':np.arange(10, 15), 'random_state':[0,1,2,3,4,5,6,7,8,9]}\n",
    "clf = GridSearchCV(MLPClassifier(), parameters, n_jobs=-1, verbose=0)\n",
    "\n",
    "clf.fit(X_train, y_train)\n",
    "print(clf.score(X_train, y_train))\n",
    "print(clf.best_params_)"
   ]
  },
  {
   "cell_type": "code",
   "execution_count": null,
   "metadata": {},
   "outputs": [],
   "source": [
    "from sklearn.linear_model import SGDClassifier\n",
    "clf = SGDClassifier(max_iter=5)\n",
    "clf.fit(X_train, y_train)\n",
    "clf.score(X_val, y_val)"
   ]
  },
  {
   "cell_type": "code",
   "execution_count": null,
   "metadata": {},
   "outputs": [],
   "source": []
  },
  {
   "cell_type": "code",
   "execution_count": null,
   "metadata": {},
   "outputs": [],
   "source": []
  },
  {
   "cell_type": "code",
   "execution_count": null,
   "metadata": {},
   "outputs": [],
   "source": []
  },
  {
   "cell_type": "code",
   "execution_count": null,
   "metadata": {},
   "outputs": [],
   "source": []
  },
  {
   "cell_type": "code",
   "execution_count": null,
   "metadata": {},
   "outputs": [],
   "source": [
    "model1 = xgboost.XGBClassifier()\n",
    "classifiers.append(model1)\n",
    "#model2 = svm.SVC()\n",
    "#classifiers.append(model2)\n",
    "model3 = tree.DecisionTreeClassifier()\n",
    "classifiers.append(model3)\n",
    "model4 = RandomForestClassifier()\n",
    "classifiers.append(model4)\n",
    "model5 = GaussianNB()\n",
    "classifiers.append(model5)\n",
    "model6 = MLPClassifier()\n",
    "classifiers.append(model6)"
   ]
  },
  {
   "cell_type": "code",
   "execution_count": null,
   "metadata": {},
   "outputs": [],
   "source": [
    "#from sklearn.model_selection import GridSearchCV\n",
    "#penalty = ['l1', 'l2']\n",
    "\n",
    "# Create regularization hyperparameter space\n",
    "#C = np.logspace(0, 4, 10)\n",
    "\n",
    "# Create hyperparameter options\n",
    "#hyperparameters = dict(C=C, penalty=penalty)"
   ]
  },
  {
   "cell_type": "code",
   "execution_count": null,
   "metadata": {},
   "outputs": [],
   "source": [
    "from sklearn import metrics"
   ]
  },
  {
   "cell_type": "code",
   "execution_count": null,
   "metadata": {},
   "outputs": [],
   "source": [
    "from sklearn.neural_network import MLPClassifier\n",
    "mlp = MLPClassifier(max_iter=100)"
   ]
  },
  {
   "cell_type": "code",
   "execution_count": null,
   "metadata": {},
   "outputs": [],
   "source": [
    "parameter_space = {\n",
    "    'hidden_layer_sizes': [(50,50,50), (50,100,50), (100,)],\n",
    "    'activation': ['tanh', 'relu'],\n",
    "    'solver': ['sgd', 'adam'],\n",
    "    'alpha': [0.0001, 0.05],\n",
    "    'learning_rate': ['constant','adaptive'],\n",
    "}"
   ]
  },
  {
   "cell_type": "code",
   "execution_count": null,
   "metadata": {},
   "outputs": [],
   "source": [
    "from sklearn.model_selection import GridSearchCV\n",
    "clf = GridSearchCV(mlp, parameter_space, n_jobs=-1, cv=3)\n",
    "clf.fit(X_train, y_train)\n",
    "print(clf.score(X_train, y_train))\n",
    "print(clf.best_params_)"
   ]
  },
  {
   "cell_type": "code",
   "execution_count": null,
   "metadata": {},
   "outputs": [],
   "source": [
    "# Best paramete set\n",
    "print('Best parameters found:\\n', clf.best_params_)\n",
    "\n",
    "# All results\n",
    "means = clf.cv_results_['mean_test_score']\n",
    "stds = clf.cv_results_['std_test_score']\n",
    "for mean, std, params in zip(means, stds, clf.cv_results_['params']):\n",
    "    print(\"%0.3f (+/-%0.03f) for %r\" % (mean, std * 2, params))"
   ]
  },
  {
   "cell_type": "code",
   "execution_count": 9,
   "metadata": {},
   "outputs": [],
   "source": [
    "data = data.drop(['ID', 'launched','name'],1)"
   ]
  },
  {
   "cell_type": "code",
   "execution_count": 23,
   "metadata": {},
   "outputs": [],
   "source": [
    "data = data.drop(['pledged', 'goal','usd pledged',],1)"
   ]
  },
  {
   "cell_type": "code",
   "execution_count": 20,
   "metadata": {},
   "outputs": [
    {
     "name": "stdout",
     "output_type": "stream",
     "text": [
      "['Publishing' 'Film & Video' 'Music' 'Food' 'Crafts' 'Games' 'Design'\n",
      " 'Comics' 'Fashion' 'Theater' 'Art' 'Photography' 'Technology' 'Dance'\n",
      " 'Journalism']\n",
      "159\n"
     ]
    }
   ],
   "source": [
    "print((data.main_category.unique()))\n",
    "print(len(data.category.unique()))"
   ]
  },
  {
   "cell_type": "code",
   "execution_count": 25,
   "metadata": {},
   "outputs": [],
   "source": [
    "data = data.drop(['category'],1)"
   ]
  },
  {
   "cell_type": "code",
   "execution_count": 28,
   "metadata": {},
   "outputs": [],
   "source": [
    "data['color'] = np.where(data.state=='successful', 'green', 'red')"
   ]
  },
  {
   "cell_type": "code",
   "execution_count": 39,
   "metadata": {},
   "outputs": [
    {
     "data": {
      "text/html": [
       "<div>\n",
       "<style scoped>\n",
       "    .dataframe tbody tr th:only-of-type {\n",
       "        vertical-align: middle;\n",
       "    }\n",
       "\n",
       "    .dataframe tbody tr th {\n",
       "        vertical-align: top;\n",
       "    }\n",
       "\n",
       "    .dataframe thead th {\n",
       "        text-align: right;\n",
       "    }\n",
       "</style>\n",
       "<table border=\"1\" class=\"dataframe\">\n",
       "  <thead>\n",
       "    <tr style=\"text-align: right;\">\n",
       "      <th></th>\n",
       "      <th>currency</th>\n",
       "      <th>deadline</th>\n",
       "      <th>state</th>\n",
       "      <th>backers</th>\n",
       "      <th>country</th>\n",
       "      <th>usd_pledged_real</th>\n",
       "      <th>usd_goal_real</th>\n",
       "      <th>days</th>\n",
       "      <th>color</th>\n",
       "    </tr>\n",
       "    <tr>\n",
       "      <th>main_category</th>\n",
       "      <th></th>\n",
       "      <th></th>\n",
       "      <th></th>\n",
       "      <th></th>\n",
       "      <th></th>\n",
       "      <th></th>\n",
       "      <th></th>\n",
       "      <th></th>\n",
       "      <th></th>\n",
       "    </tr>\n",
       "  </thead>\n",
       "  <tbody>\n",
       "    <tr>\n",
       "      <th>Dance</th>\n",
       "      <td>3573</td>\n",
       "      <td>3573</td>\n",
       "      <td>3573</td>\n",
       "      <td>3573</td>\n",
       "      <td>3573</td>\n",
       "      <td>3573</td>\n",
       "      <td>3573</td>\n",
       "      <td>3573</td>\n",
       "      <td>3573</td>\n",
       "    </tr>\n",
       "    <tr>\n",
       "      <th>Journalism</th>\n",
       "      <td>4149</td>\n",
       "      <td>4149</td>\n",
       "      <td>4149</td>\n",
       "      <td>4149</td>\n",
       "      <td>4149</td>\n",
       "      <td>4149</td>\n",
       "      <td>4149</td>\n",
       "      <td>4149</td>\n",
       "      <td>4149</td>\n",
       "    </tr>\n",
       "    <tr>\n",
       "      <th>Crafts</th>\n",
       "      <td>7818</td>\n",
       "      <td>7818</td>\n",
       "      <td>7818</td>\n",
       "      <td>7818</td>\n",
       "      <td>7818</td>\n",
       "      <td>7818</td>\n",
       "      <td>7818</td>\n",
       "      <td>7818</td>\n",
       "      <td>7818</td>\n",
       "    </tr>\n",
       "    <tr>\n",
       "      <th>Photography</th>\n",
       "      <td>9689</td>\n",
       "      <td>9689</td>\n",
       "      <td>9689</td>\n",
       "      <td>9689</td>\n",
       "      <td>9689</td>\n",
       "      <td>9689</td>\n",
       "      <td>9689</td>\n",
       "      <td>9689</td>\n",
       "      <td>9689</td>\n",
       "    </tr>\n",
       "    <tr>\n",
       "      <th>Comics</th>\n",
       "      <td>9878</td>\n",
       "      <td>9878</td>\n",
       "      <td>9878</td>\n",
       "      <td>9878</td>\n",
       "      <td>9878</td>\n",
       "      <td>9878</td>\n",
       "      <td>9878</td>\n",
       "      <td>9878</td>\n",
       "      <td>9878</td>\n",
       "    </tr>\n",
       "    <tr>\n",
       "      <th>Theater</th>\n",
       "      <td>10242</td>\n",
       "      <td>10242</td>\n",
       "      <td>10242</td>\n",
       "      <td>10242</td>\n",
       "      <td>10242</td>\n",
       "      <td>10242</td>\n",
       "      <td>10242</td>\n",
       "      <td>10242</td>\n",
       "      <td>10242</td>\n",
       "    </tr>\n",
       "    <tr>\n",
       "      <th>Fashion</th>\n",
       "      <td>19775</td>\n",
       "      <td>19775</td>\n",
       "      <td>19775</td>\n",
       "      <td>19775</td>\n",
       "      <td>19775</td>\n",
       "      <td>19775</td>\n",
       "      <td>19775</td>\n",
       "      <td>19775</td>\n",
       "      <td>19775</td>\n",
       "    </tr>\n",
       "    <tr>\n",
       "      <th>Food</th>\n",
       "      <td>22054</td>\n",
       "      <td>22054</td>\n",
       "      <td>22054</td>\n",
       "      <td>22054</td>\n",
       "      <td>22054</td>\n",
       "      <td>22054</td>\n",
       "      <td>22054</td>\n",
       "      <td>22054</td>\n",
       "      <td>22054</td>\n",
       "    </tr>\n",
       "    <tr>\n",
       "      <th>Design</th>\n",
       "      <td>25364</td>\n",
       "      <td>25364</td>\n",
       "      <td>25364</td>\n",
       "      <td>25364</td>\n",
       "      <td>25364</td>\n",
       "      <td>25364</td>\n",
       "      <td>25364</td>\n",
       "      <td>25364</td>\n",
       "      <td>25364</td>\n",
       "    </tr>\n",
       "    <tr>\n",
       "      <th>Art</th>\n",
       "      <td>25641</td>\n",
       "      <td>25641</td>\n",
       "      <td>25641</td>\n",
       "      <td>25641</td>\n",
       "      <td>25641</td>\n",
       "      <td>25641</td>\n",
       "      <td>25641</td>\n",
       "      <td>25641</td>\n",
       "      <td>25641</td>\n",
       "    </tr>\n",
       "    <tr>\n",
       "      <th>Technology</th>\n",
       "      <td>27050</td>\n",
       "      <td>27050</td>\n",
       "      <td>27050</td>\n",
       "      <td>27050</td>\n",
       "      <td>27050</td>\n",
       "      <td>27050</td>\n",
       "      <td>27050</td>\n",
       "      <td>27050</td>\n",
       "      <td>27050</td>\n",
       "    </tr>\n",
       "    <tr>\n",
       "      <th>Games</th>\n",
       "      <td>28521</td>\n",
       "      <td>28521</td>\n",
       "      <td>28521</td>\n",
       "      <td>28521</td>\n",
       "      <td>28521</td>\n",
       "      <td>28521</td>\n",
       "      <td>28521</td>\n",
       "      <td>28521</td>\n",
       "      <td>28521</td>\n",
       "    </tr>\n",
       "    <tr>\n",
       "      <th>Publishing</th>\n",
       "      <td>35445</td>\n",
       "      <td>35445</td>\n",
       "      <td>35445</td>\n",
       "      <td>35445</td>\n",
       "      <td>35445</td>\n",
       "      <td>35445</td>\n",
       "      <td>35445</td>\n",
       "      <td>35445</td>\n",
       "      <td>35445</td>\n",
       "    </tr>\n",
       "    <tr>\n",
       "      <th>Music</th>\n",
       "      <td>45949</td>\n",
       "      <td>45949</td>\n",
       "      <td>45949</td>\n",
       "      <td>45949</td>\n",
       "      <td>45949</td>\n",
       "      <td>45949</td>\n",
       "      <td>45949</td>\n",
       "      <td>45949</td>\n",
       "      <td>45949</td>\n",
       "    </tr>\n",
       "    <tr>\n",
       "      <th>Film &amp; Video</th>\n",
       "      <td>56527</td>\n",
       "      <td>56527</td>\n",
       "      <td>56527</td>\n",
       "      <td>56527</td>\n",
       "      <td>56527</td>\n",
       "      <td>56527</td>\n",
       "      <td>56527</td>\n",
       "      <td>56527</td>\n",
       "      <td>56527</td>\n",
       "    </tr>\n",
       "  </tbody>\n",
       "</table>\n",
       "</div>"
      ],
      "text/plain": [
       "               currency  deadline  state  backers  country  usd_pledged_real  \\\n",
       "main_category                                                                  \n",
       "Dance              3573      3573   3573     3573     3573              3573   \n",
       "Journalism         4149      4149   4149     4149     4149              4149   \n",
       "Crafts             7818      7818   7818     7818     7818              7818   \n",
       "Photography        9689      9689   9689     9689     9689              9689   \n",
       "Comics             9878      9878   9878     9878     9878              9878   \n",
       "Theater           10242     10242  10242    10242    10242             10242   \n",
       "Fashion           19775     19775  19775    19775    19775             19775   \n",
       "Food              22054     22054  22054    22054    22054             22054   \n",
       "Design            25364     25364  25364    25364    25364             25364   \n",
       "Art               25641     25641  25641    25641    25641             25641   \n",
       "Technology        27050     27050  27050    27050    27050             27050   \n",
       "Games             28521     28521  28521    28521    28521             28521   \n",
       "Publishing        35445     35445  35445    35445    35445             35445   \n",
       "Music             45949     45949  45949    45949    45949             45949   \n",
       "Film & Video      56527     56527  56527    56527    56527             56527   \n",
       "\n",
       "               usd_goal_real   days  color  \n",
       "main_category                               \n",
       "Dance                   3573   3573   3573  \n",
       "Journalism              4149   4149   4149  \n",
       "Crafts                  7818   7818   7818  \n",
       "Photography             9689   9689   9689  \n",
       "Comics                  9878   9878   9878  \n",
       "Theater                10242  10242  10242  \n",
       "Fashion                19775  19775  19775  \n",
       "Food                   22054  22054  22054  \n",
       "Design                 25364  25364  25364  \n",
       "Art                    25641  25641  25641  \n",
       "Technology             27050  27050  27050  \n",
       "Games                  28521  28521  28521  \n",
       "Publishing             35445  35445  35445  \n",
       "Music                  45949  45949  45949  \n",
       "Film & Video           56527  56527  56527  "
      ]
     },
     "execution_count": 39,
     "metadata": {},
     "output_type": "execute_result"
    }
   ],
   "source": [
    "data.groupby('main_category').agg('count').sort_values(by='currency')"
   ]
  },
  {
   "cell_type": "code",
   "execution_count": 41,
   "metadata": {},
   "outputs": [
    {
     "data": {
      "text/plain": [
       "([<matplotlib.patches.Wedge at 0x2a10aca58d0>,\n",
       "  <matplotlib.patches.Wedge at 0x2a10aca5da0>,\n",
       "  <matplotlib.patches.Wedge at 0x2a10acb9278>,\n",
       "  <matplotlib.patches.Wedge at 0x2a10acb9710>,\n",
       "  <matplotlib.patches.Wedge at 0x2a10acb9ba8>,\n",
       "  <matplotlib.patches.Wedge at 0x2a10acc4080>,\n",
       "  <matplotlib.patches.Wedge at 0x2a10acc4518>,\n",
       "  <matplotlib.patches.Wedge at 0x2a10acc49b0>,\n",
       "  <matplotlib.patches.Wedge at 0x2a10acc4e48>,\n",
       "  <matplotlib.patches.Wedge at 0x2a10acd0320>,\n",
       "  <matplotlib.patches.Wedge at 0x2a10d7f82b0>,\n",
       "  <matplotlib.patches.Wedge at 0x2a10acd0c18>,\n",
       "  <matplotlib.patches.Wedge at 0x2a10acdd0f0>,\n",
       "  <matplotlib.patches.Wedge at 0x2a10acdd588>,\n",
       "  <matplotlib.patches.Wedge at 0x2a10acdda20>],\n",
       " [Text(1.0677172098487497, 0.2645372559636938, ''),\n",
       "  Text(0.9205298011525331, 0.6021834315140844, ''),\n",
       "  Text(0.8071661687212086, 0.7473170519076395, ''),\n",
       "  Text(0.7219975397171036, 0.8298912896533194, ''),\n",
       "  Text(0.4704208202382244, 0.9943360859821977, ''),\n",
       "  Text(0.015779152105270623, 1.099886820704221, ''),\n",
       "  Text(-0.7156646384441587, 0.8353586806160523, ''),\n",
       "  Text(-1.0923370673147141, 0.12961377770241014, ''),\n",
       "  Text(-1.029123242371833, -0.38846538070989767, ''),\n",
       "  Text(-0.8619419620187325, -0.6834149940638542, ''),\n",
       "  Text(-0.4544443713517078, -1.001738645229758, ''),\n",
       "  Text(0.11102920019339181, -1.0943822534674144, ''),\n",
       "  Text(0.5547693683948528, -0.9498583830712747, ''),\n",
       "  Text(0.9903782484834006, -0.4786971118890857, ''),\n",
       "  Text(1.0948279155253193, -0.10654499231068745, '')])"
      ]
     },
     "execution_count": 41,
     "metadata": {},
     "output_type": "execute_result"
    },
    {
     "data": {
      "image/png": "[encoded data removed]",
      "text/plain": [
       "<Figure size 432x288 with 1 Axes>"
      ]
     },
     "metadata": {},
     "output_type": "display_data"
    }
   ],
   "source": [
    "plt.pie(data.groupby('main_category').agg('count')['currency'])"
   ]
  },
  {
   "cell_type": "code",
   "execution_count": null,
   "metadata": {},
   "outputs": [],
   "source": []
  }
 ],
 "metadata": {
  "kernelspec": {
   "display_name": "Python 3",
   "language": "python",
   "name": "python3"
  },
  "language_info": {
   "codemirror_mode": {
    "name": "ipython",
    "version": 3
   },
   "file_extension": ".py",
   "mimetype": "text/x-python",
   "name": "python",
   "nbconvert_exporter": "python",
   "pygments_lexer": "ipython3",
   "version": "3.7.0"
  }
 },
 "nbformat": 4,
 "nbformat_minor": 2
}
